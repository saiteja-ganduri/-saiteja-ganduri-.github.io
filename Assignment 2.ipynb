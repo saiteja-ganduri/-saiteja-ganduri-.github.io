{
 "cells": [
  {
   "cell_type": "markdown",
   "metadata": {},
   "source": [
    "<center><h1><b>kNN - k nearest neighbors</b></h1></center>"
   ]
  },
  {
   "cell_type": "markdown",
   "metadata": {},
   "source": [
    "<b>1. Divide the dataset as development and test. Because kNN does not require training you don’t have a train dataset. Make sure randomly divide the dataset</b>"
   ]
  },
  {
   "cell_type": "code",
   "execution_count": 69,
   "metadata": {},
   "outputs": [],
   "source": [
    "from math import sqrt\n",
    "import numpy as np\n",
    "import pandas as pd\n",
    "import matplotlib.pyplot as plt"
   ]
  },
  {
   "cell_type": "code",
   "execution_count": 70,
   "metadata": {},
   "outputs": [
    {
     "data": {
      "text/html": [
       "<div>\n",
       "<style scoped>\n",
       "    .dataframe tbody tr th:only-of-type {\n",
       "        vertical-align: middle;\n",
       "    }\n",
       "\n",
       "    .dataframe tbody tr th {\n",
       "        vertical-align: top;\n",
       "    }\n",
       "\n",
       "    .dataframe thead th {\n",
       "        text-align: right;\n",
       "    }\n",
       "</style>\n",
       "<table border=\"1\" class=\"dataframe\">\n",
       "  <thead>\n",
       "    <tr style=\"text-align: right;\">\n",
       "      <th></th>\n",
       "      <th>sepal_length</th>\n",
       "      <th>sepal_width</th>\n",
       "      <th>petal_length</th>\n",
       "      <th>petal_width</th>\n",
       "      <th>species</th>\n",
       "    </tr>\n",
       "  </thead>\n",
       "  <tbody>\n",
       "    <tr>\n",
       "      <td>0</td>\n",
       "      <td>5.1</td>\n",
       "      <td>3.5</td>\n",
       "      <td>1.4</td>\n",
       "      <td>0.2</td>\n",
       "      <td>Iris-setosa</td>\n",
       "    </tr>\n",
       "    <tr>\n",
       "      <td>1</td>\n",
       "      <td>4.9</td>\n",
       "      <td>3.0</td>\n",
       "      <td>1.4</td>\n",
       "      <td>0.2</td>\n",
       "      <td>Iris-setosa</td>\n",
       "    </tr>\n",
       "    <tr>\n",
       "      <td>2</td>\n",
       "      <td>4.7</td>\n",
       "      <td>3.2</td>\n",
       "      <td>1.3</td>\n",
       "      <td>0.2</td>\n",
       "      <td>Iris-setosa</td>\n",
       "    </tr>\n",
       "    <tr>\n",
       "      <td>3</td>\n",
       "      <td>4.6</td>\n",
       "      <td>3.1</td>\n",
       "      <td>1.5</td>\n",
       "      <td>0.2</td>\n",
       "      <td>Iris-setosa</td>\n",
       "    </tr>\n",
       "    <tr>\n",
       "      <td>4</td>\n",
       "      <td>5.0</td>\n",
       "      <td>3.6</td>\n",
       "      <td>1.4</td>\n",
       "      <td>0.2</td>\n",
       "      <td>Iris-setosa</td>\n",
       "    </tr>\n",
       "    <tr>\n",
       "      <td>...</td>\n",
       "      <td>...</td>\n",
       "      <td>...</td>\n",
       "      <td>...</td>\n",
       "      <td>...</td>\n",
       "      <td>...</td>\n",
       "    </tr>\n",
       "    <tr>\n",
       "      <td>145</td>\n",
       "      <td>6.7</td>\n",
       "      <td>3.0</td>\n",
       "      <td>5.2</td>\n",
       "      <td>2.3</td>\n",
       "      <td>Iris-virginica</td>\n",
       "    </tr>\n",
       "    <tr>\n",
       "      <td>146</td>\n",
       "      <td>6.3</td>\n",
       "      <td>2.5</td>\n",
       "      <td>5.0</td>\n",
       "      <td>1.9</td>\n",
       "      <td>Iris-virginica</td>\n",
       "    </tr>\n",
       "    <tr>\n",
       "      <td>147</td>\n",
       "      <td>6.5</td>\n",
       "      <td>3.0</td>\n",
       "      <td>5.2</td>\n",
       "      <td>2.0</td>\n",
       "      <td>Iris-virginica</td>\n",
       "    </tr>\n",
       "    <tr>\n",
       "      <td>148</td>\n",
       "      <td>6.2</td>\n",
       "      <td>3.4</td>\n",
       "      <td>5.4</td>\n",
       "      <td>2.3</td>\n",
       "      <td>Iris-virginica</td>\n",
       "    </tr>\n",
       "    <tr>\n",
       "      <td>149</td>\n",
       "      <td>5.9</td>\n",
       "      <td>3.0</td>\n",
       "      <td>5.1</td>\n",
       "      <td>1.8</td>\n",
       "      <td>Iris-virginica</td>\n",
       "    </tr>\n",
       "  </tbody>\n",
       "</table>\n",
       "<p>150 rows × 5 columns</p>\n",
       "</div>"
      ],
      "text/plain": [
       "     sepal_length  sepal_width  petal_length  petal_width         species\n",
       "0             5.1          3.5           1.4          0.2     Iris-setosa\n",
       "1             4.9          3.0           1.4          0.2     Iris-setosa\n",
       "2             4.7          3.2           1.3          0.2     Iris-setosa\n",
       "3             4.6          3.1           1.5          0.2     Iris-setosa\n",
       "4             5.0          3.6           1.4          0.2     Iris-setosa\n",
       "..            ...          ...           ...          ...             ...\n",
       "145           6.7          3.0           5.2          2.3  Iris-virginica\n",
       "146           6.3          2.5           5.0          1.9  Iris-virginica\n",
       "147           6.5          3.0           5.2          2.0  Iris-virginica\n",
       "148           6.2          3.4           5.4          2.3  Iris-virginica\n",
       "149           5.9          3.0           5.1          1.8  Iris-virginica\n",
       "\n",
       "[150 rows x 5 columns]"
      ]
     },
     "execution_count": 70,
     "metadata": {},
     "output_type": "execute_result"
    }
   ],
   "source": [
    "#reading csv file\n",
    "dataset = pd.read_csv('iris.csv')\n",
    "dataset"
   ]
  },
  {
   "cell_type": "code",
   "execution_count": 71,
   "metadata": {},
   "outputs": [
    {
     "name": "stdout",
     "output_type": "stream",
     "text": [
      "Size of Developement set:  105\n",
      "Size of Test set:  45\n"
     ]
    }
   ],
   "source": [
    "#shuffling data and then divide into development and test set, as we can't use train_test_split\n",
    "shuffle = dataset.sample(frac = 1).to_numpy()\n",
    "size = int(0.70*len(dataset))\n",
    "development_set = shuffle[:size]\n",
    "test_set = shuffle[size:]\n",
    "print(\"Size of Developement set: \",len(development_set))\n",
    "print(\"Size of Test set: \",len(test_set))"
   ]
  },
  {
   "cell_type": "code",
   "execution_count": 72,
   "metadata": {},
   "outputs": [],
   "source": [
    "X_development = development_set[:,[0,1,2,3]]\n",
    "X_test = test_set[:,[0,1,2,3]]\n",
    "Y_development = development_set[:,-1]\n",
    "Y_test = test_set[:,-1]"
   ]
  },
  {
   "cell_type": "code",
   "execution_count": 73,
   "metadata": {},
   "outputs": [
    {
     "name": "stdout",
     "output_type": "stream",
     "text": [
      "This is how X_development looks like after dividing into X and Y subsets: \n",
      "[[5.8 2.6 4.0 1.2]\n",
      " [5.1 2.5 3.0 1.1]\n",
      " [6.3 2.9 5.6 1.8]\n",
      " [4.6 3.2 1.4 0.2]\n",
      " [5.8 2.8 5.1 2.4]]\n",
      "\n",
      "\n",
      "This is how Y_development looks like after dividing into X and Y subsets: \n",
      "['Iris-versicolor' 'Iris-versicolor' 'Iris-virginica' 'Iris-setosa'\n",
      " 'Iris-virginica']\n"
     ]
    }
   ],
   "source": [
    "print(\"This is how X_development looks like after dividing into X and Y subsets: \")\n",
    "print(X_development[:5])\n",
    "print(\"\\n\")\n",
    "print(\"This is how Y_development looks like after dividing into X and Y subsets: \")\n",
    "print(Y_development[:5])"
   ]
  },
  {
   "cell_type": "markdown",
   "metadata": {},
   "source": [
    "<b>2. Implement kNN using the following hyperparameters\n",
    "    \n",
    "    Number of neighbor K = 1,3,5,7\n",
    "    distance metric\n",
    "    euclidean distance\n",
    "    normalized euclidean distance\n",
    "    cosine similarity\n",
    "</b>"
   ]
  },
  {
   "cell_type": "code",
   "execution_count": 74,
   "metadata": {},
   "outputs": [],
   "source": [
    "#various distance metrics and accuracy function\n",
    "def euclidean_distance(r1, r2):\n",
    "    eu_distance = 0.0\n",
    "    for i in range(len(r1)-1):\n",
    "        eu_distance = eu_distance + np.square(r1[i] - r2[i])\n",
    "    return sqrt(eu_distance)\n",
    "\n",
    "def normalized_euclidean_distance(r1,r2):\n",
    "    neu_distance = 0.0\n",
    "    mean1 = r1[:len(r1)-1].mean()\n",
    "    mean2 = r2[:len(r1)-1].mean()\n",
    "    std1 = r1[:len(r1)-1].std()\n",
    "    std2 = r2[:len(r1)-1].std()\n",
    "    for i in range(len(r1)-1):    \n",
    "        neu_distance = np.square((r1[i] - mean1/std1) - (r2[i] - mean2/std2))\n",
    "    return sqrt(neu_distance)\n",
    "\n",
    "def cosine_similarity(r1,r2):\n",
    "    cosine_distance = 0.0\n",
    "    a = 0\n",
    "    b = 0\n",
    "    for i in range(len(r1)-1):\n",
    "        cosine_distance = cosine_distance + (r1[i] * r2[i])\n",
    "        a = a + np.square(r1[i])\n",
    "        b = b + np.square(r2[i])   \n",
    "    cos_distance = cosine_distance/((np.sqrt(a)*(np.sqrt(b))))\n",
    "    return (1-cos_distance)\n",
    "\n",
    "def calculate_accuracy(expected, predicted):\n",
    "    counter = 0\n",
    "    r = len(expected)\n",
    "    for i in range(r):\n",
    "        if(expected[i]==predicted[i]):\n",
    "            counter = counter + 1\n",
    "    acc = (counter*100)/r\n",
    "    return acc"
   ]
  },
  {
   "cell_type": "code",
   "execution_count": 75,
   "metadata": {},
   "outputs": [],
   "source": [
    "#euclidean neighbour\n",
    "def get_kNN_euclidean(development_set,X_development_row, k):\n",
    "    distance = []\n",
    "    for row in development_set:\n",
    "        temp_distance = euclidean_distance(row ,X_development_row)\n",
    "        distance.append((row,temp_distance))\n",
    "    distance.sort(key=lambda tup: tup[1])\n",
    "    neighbour = []\n",
    "    for i in range(k):\n",
    "        neighbour.append(distance[i][0])\n",
    "    class_value=[]\n",
    "    for row in neighbour:\n",
    "        class_value.append(row[-1])\n",
    "    class_prediction = max(set(class_value), key=class_value.count)\n",
    "    return class_prediction"
   ]
  },
  {
   "cell_type": "code",
   "execution_count": 76,
   "metadata": {},
   "outputs": [],
   "source": [
    "#normalized euclidean neighbour\n",
    "def get_kNN_normalized_euclidean(development_set,X_development_row, k):\n",
    "    distance = []\n",
    "    for row in development_set:\n",
    "        temp_distance = normalized_euclidean_distance(row ,X_development_row)\n",
    "        distance.append((row,temp_distance))\n",
    "    distance.sort(key=lambda tup: tup[1])\n",
    "    neighbour = []\n",
    "    for i in range(k):\n",
    "        neighbour.append(distance[i][0])\n",
    "    class_value=[]\n",
    "    for row in neighbour:\n",
    "        class_value.append(row[-1])\n",
    "    class_prediction = max(set(class_value), key=class_value.count)\n",
    "    return class_prediction"
   ]
  },
  {
   "cell_type": "code",
   "execution_count": 77,
   "metadata": {},
   "outputs": [],
   "source": [
    "#cosine similarity neighbour\n",
    "def get_kNN_cosine(development_set,X_development_row, k):\n",
    "    distance = []\n",
    "    for row in development_set:\n",
    "        temp_distance = cosine_similarity(row ,X_development_row)\n",
    "        distance.append((row,temp_distance))\n",
    "    distance.sort(key=lambda tup:tup[1])\n",
    "    neighbour = []\n",
    "    for i in range(k):\n",
    "        neighbour.append(distance[i][0])\n",
    "    class_value=[]\n",
    "    for row in neighbour:\n",
    "        class_value.append(row[-1])\n",
    "    class_prediction = max(set(class_value), key=class_value.count)\n",
    "    return class_prediction"
   ]
  },
  {
   "cell_type": "markdown",
   "metadata": {},
   "source": [
    "<b> 3. Using the development dataset,\n",
    "    \n",
    "    Calculate accuracy by iterating all of the development data point\n",
    "    Find optimal hyperparameters\n",
    "    Draw bar charts for accuracy\n",
    "</b>"
   ]
  },
  {
   "cell_type": "code",
   "execution_count": 78,
   "metadata": {},
   "outputs": [
    {
     "name": "stdout",
     "output_type": "stream",
     "text": [
      "Predictions for various k-values for Euclidean Distance:\n",
      "Accuracy for value of k =  1 : 100.0\n",
      "Accuracy for value of k =  3 : 97.14285714285714\n",
      "Accuracy for value of k =  5 : 98.0952380952381\n",
      "Accuracy for value of k =  7 : 97.14285714285714\n",
      "\n",
      "\n",
      "Predictions for various k-values for Normalized Euclidean Distance:\n",
      "Accuracy for value of k =  1 : 100.0\n",
      "Accuracy for value of k =  3 : 93.33333333333333\n",
      "Accuracy for value of k =  5 : 93.33333333333333\n",
      "Accuracy for value of k =  7 : 92.38095238095238\n",
      "\n",
      "\n",
      "Predictions for various k-values for Cosine Similarity:\n",
      "Accuracy for value of k =  1 : 100.0\n",
      "Accuracy for value of k =  3 : 98.0952380952381\n",
      "Accuracy for value of k =  5 : 99.04761904761905\n",
      "Accuracy for value of k =  7 : 99.04761904761905\n"
     ]
    }
   ],
   "source": [
    "#calculating accuracies for different K values\n",
    "#accuracy for euclidean distance\n",
    "k = [1,3,5,7]\n",
    "acc_euclidean = []\n",
    "for i in range(len(k)):\n",
    "    predictions = []\n",
    "    for row in X_development:\n",
    "        predictions.append(get_kNN_euclidean(development_set, row, k[i]))\n",
    "    aeuclidean=calculate_accuracy(Y_development, predictions)\n",
    "    acc_euclidean.append(aeuclidean)\n",
    "\n",
    "#accuracy for normalized euclidean distance\n",
    "k = [1,3,5,7]\n",
    "acc_normalized = []\n",
    "for i in range(len(k)):\n",
    "    predictions = []\n",
    "    for row in X_development:\n",
    "        predictions.append(get_kNN_normalized_euclidean(development_set, row, k[i]))\n",
    "    anormalized = calculate_accuracy(Y_development, predictions)\n",
    "    acc_normalized.append(anormalized)\n",
    "\n",
    "#accuracy for cosine similarity\n",
    "k = [1,3,5,7]\n",
    "acc_cosine = []\n",
    "for i in range(len(k)):\n",
    "    predictions = []\n",
    "    for row in X_development:\n",
    "        predictions.append(get_kNN_cosine(development_set, row, k[i]))\n",
    "    acosine = (calculate_accuracy(Y_development, predictions))\n",
    "    acc_cosine.append(acosine)\n",
    "\n",
    "#printing all accuracies\n",
    "print(\"Predictions for various k-values for Euclidean Distance:\")\n",
    "for i in range(len(k)):\n",
    "    print(\"Accuracy for value of k = \" ,k[i],\":\", acc_euclidean[i])\n",
    "print(\"\\n\")\n",
    "print(\"Predictions for various k-values for Normalized Euclidean Distance:\")\n",
    "for i in range(len(k)):\n",
    "    print(\"Accuracy for value of k = \" ,k[i],\":\", acc_normalized[i])\n",
    "print(\"\\n\")\n",
    "print(\"Predictions for various k-values for Cosine Similarity:\")\n",
    "for i in range(len(k)):\n",
    "    print(\"Accuracy for value of k = \" ,k[i],\":\", acc_cosine[i])"
   ]
  },
  {
   "cell_type": "code",
   "execution_count": 79,
   "metadata": {},
   "outputs": [
    {
     "data": {
      "image/png": "[encoded data removed]",
      "text/plain": [
       "<Figure size 432x288 with 1 Axes>"
      ]
     },
     "metadata": {
      "needs_background": "light"
     },
     "output_type": "display_data"
    }
   ],
   "source": [
    "#bar chart for euclidean distance\n",
    "objects = ['K = 1','K = 3','K = 5','K = 7']\n",
    "plt.title('Bar chart for Euclidean distance')\n",
    "plt.ylabel('Accuracy')\n",
    "graph = plt.bar(objects, acc_euclidean, align = 'center', alpha = 0.4)\n",
    "graph[0].set_color('r')\n",
    "graph[1].set_color('g')\n",
    "graph[2].set_color('b')\n",
    "graph[3].set_color('k')\n",
    "plt.show()"
   ]
  },
  {
   "cell_type": "code",
   "execution_count": 80,
   "metadata": {},
   "outputs": [
    {
     "data": {
      "image/png": "[encoded data removed]",
      "text/plain": [
       "<Figure size 432x288 with 1 Axes>"
      ]
     },
     "metadata": {
      "needs_background": "light"
     },
     "output_type": "display_data"
    }
   ],
   "source": [
    "#Bar chart for Normalized Euclidean distance\n",
    "objects = ['K = 1','K = 3','K = 5','K = 7']\n",
    "plt.title('Bar chart for Normalized Euclidean distance')\n",
    "plt.ylabel('Accuracy')\n",
    "graph = plt.bar(objects, acc_normalized, align = 'center', alpha = 0.4)\n",
    "graph[0].set_color('r')\n",
    "graph[1].set_color('g')\n",
    "graph[2].set_color('b')\n",
    "graph[3].set_color('k')\n",
    "plt.show()"
   ]
  },
  {
   "cell_type": "code",
   "execution_count": 81,
   "metadata": {},
   "outputs": [
    {
     "data": {
      "image/png": "[encoded data removed]",
      "text/plain": [
       "<Figure size 432x288 with 1 Axes>"
      ]
     },
     "metadata": {
      "needs_background": "light"
     },
     "output_type": "display_data"
    }
   ],
   "source": [
    "#Bar chart for Cosine Similarity\n",
    "objects = ['K = 1','K = 3','K = 5','K = 7']\n",
    "plt.title('Bar chart for Cosine Similarity')\n",
    "plt.ylabel('Accuracy')\n",
    "graph = plt.bar(objects, acc_cosine, align = 'center', alpha = 0.4)\n",
    "graph[0].set_color('r')\n",
    "graph[1].set_color('g')\n",
    "graph[2].set_color('b')\n",
    "graph[3].set_color('k')\n",
    "plt.show()"
   ]
  },
  {
   "cell_type": "markdown",
   "metadata": {},
   "source": [
    "<b>4. Using the test dataset\n",
    "    \n",
    "    Use the optimal hyperparameters you found in the step c, and use it to calculate the final accuracy. \n",
    "</b>"
   ]
  },
  {
   "cell_type": "code",
   "execution_count": 82,
   "metadata": {},
   "outputs": [
    {
     "name": "stdout",
     "output_type": "stream",
     "text": [
      "Final test accuracy for Cosine Similarity distance and K = 1\n",
      "97.77777777777777\n"
     ]
    }
   ],
   "source": [
    "print(\"Final test accuracy for Cosine Similarity distance and K = 1\")\n",
    "predictions = []\n",
    "for row in test_set:\n",
    "    predictions.append(get_kNN_cosine(development_set, row, 1))\n",
    "acosine = (calculate_accuracy(Y_test, predictions))\n",
    "print(acosine)"
   ]
  },
  {
   "cell_type": "markdown",
   "metadata": {},
   "source": [
    "<b>References:</b>\n",
    "1. kNN code concepts: https://machinelearningmastery.com/load-machine-learning-data-scratch-python/\n",
    "2. Bar chart: https://pythonspot.com/matplotlib-bar-chart/\n",
    "3. code reference: https://medium.com/@avulurivenkatasaireddy/k-nearest-neighbors-and-implementation-on-iris-data-set-f5817dd33711\n",
    "4. https://www.geeksforgeeks.org/reading-writing-text-files-python/\n",
    "5. Cosine similarity : https://github.com/sagarmk/Cosine-similarity-from-scratch-on-webpages/blob/master/cosine_similarity.py\n",
    "6. Euclidean distance: https://pythonprogramming.net/euclidean-distance-machine-learning-tutorial/\n",
    "7. Splitting data: http://cs230.stanford.edu/blog/split/"
   ]
  }
 ],
 "metadata": {
  "kernelspec": {
   "display_name": "Python 3",
   "language": "python",
   "name": "python3"
  },
  "language_info": {
   "codemirror_mode": {
    "name": "ipython",
    "version": 3
   },
   "file_extension": ".py",
   "mimetype": "text/x-python",
   "name": "python",
   "nbconvert_exporter": "python",
   "pygments_lexer": "ipython3",
   "version": "3.7.4"
  }
 },
 "nbformat": 4,
 "nbformat_minor": 2
}
